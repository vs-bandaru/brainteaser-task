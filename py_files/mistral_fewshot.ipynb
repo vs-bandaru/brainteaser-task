{
  "nbformat": 4,
  "nbformat_minor": 0,
  "metadata": {
    "colab": {
      "provenance": [],
      "gpuType": "L4"
    },
    "kernelspec": {
      "name": "python3",
      "display_name": "Python 3"
    },
    "language_info": {
      "name": "python"
    },
    "accelerator": "GPU",
    "widgets": {
      "application/vnd.jupyter.widget-state+json": {
        "a7cfb08b45894b0ebcfe6b377ff885f2": {
          "model_module": "@jupyter-widgets/controls",
          "model_name": "HBoxModel",
          "model_module_version": "1.5.0",
          "state": {
            "_dom_classes": [],
            "_model_module": "@jupyter-widgets/controls",
            "_model_module_version": "1.5.0",
            "_model_name": "HBoxModel",
            "_view_count": null,
            "_view_module": "@jupyter-widgets/controls",
            "_view_module_version": "1.5.0",
            "_view_name": "HBoxView",
            "box_style": "",
            "children": [
              "IPY_MODEL_226ad0addc544cceb4dd827a7a7261af",
              "IPY_MODEL_93a02c90d89d4ab585b771f3346a4095",
              "IPY_MODEL_606f44a9faa84f6780a88a8e8593658b"
            ],
            "layout": "IPY_MODEL_90731ce495d7451b818b81b26766bbeb"
          }
        },
        "226ad0addc544cceb4dd827a7a7261af": {
          "model_module": "@jupyter-widgets/controls",
          "model_name": "HTMLModel",
          "model_module_version": "1.5.0",
          "state": {
            "_dom_classes": [],
            "_model_module": "@jupyter-widgets/controls",
            "_model_module_version": "1.5.0",
            "_model_name": "HTMLModel",
            "_view_count": null,
            "_view_module": "@jupyter-widgets/controls",
            "_view_module_version": "1.5.0",
            "_view_name": "HTMLView",
            "description": "",
            "description_tooltip": null,
            "layout": "IPY_MODEL_11e63d5849bf4e0fb24529035848409e",
            "placeholder": "​",
            "style": "IPY_MODEL_433ddace403148e08ada2e0b700a020e",
            "value": "Loading checkpoint shards: 100%"
          }
        },
        "93a02c90d89d4ab585b771f3346a4095": {
          "model_module": "@jupyter-widgets/controls",
          "model_name": "FloatProgressModel",
          "model_module_version": "1.5.0",
          "state": {
            "_dom_classes": [],
            "_model_module": "@jupyter-widgets/controls",
            "_model_module_version": "1.5.0",
            "_model_name": "FloatProgressModel",
            "_view_count": null,
            "_view_module": "@jupyter-widgets/controls",
            "_view_module_version": "1.5.0",
            "_view_name": "ProgressView",
            "bar_style": "success",
            "description": "",
            "description_tooltip": null,
            "layout": "IPY_MODEL_c7061ed31dd847258700604325e40c10",
            "max": 3,
            "min": 0,
            "orientation": "horizontal",
            "style": "IPY_MODEL_a30b72d686514609888ddc35c307e3f4",
            "value": 3
          }
        },
        "606f44a9faa84f6780a88a8e8593658b": {
          "model_module": "@jupyter-widgets/controls",
          "model_name": "HTMLModel",
          "model_module_version": "1.5.0",
          "state": {
            "_dom_classes": [],
            "_model_module": "@jupyter-widgets/controls",
            "_model_module_version": "1.5.0",
            "_model_name": "HTMLModel",
            "_view_count": null,
            "_view_module": "@jupyter-widgets/controls",
            "_view_module_version": "1.5.0",
            "_view_name": "HTMLView",
            "description": "",
            "description_tooltip": null,
            "layout": "IPY_MODEL_3291b96bbd454b9b9451026f830fcb1f",
            "placeholder": "​",
            "style": "IPY_MODEL_ea57d1dcde644d84aadc1f445c445c07",
            "value": " 3/3 [05:00&lt;00:00, 98.86s/it]"
          }
        },
        "90731ce495d7451b818b81b26766bbeb": {
          "model_module": "@jupyter-widgets/base",
          "model_name": "LayoutModel",
          "model_module_version": "1.2.0",
          "state": {
            "_model_module": "@jupyter-widgets/base",
            "_model_module_version": "1.2.0",
            "_model_name": "LayoutModel",
            "_view_count": null,
            "_view_module": "@jupyter-widgets/base",
            "_view_module_version": "1.2.0",
            "_view_name": "LayoutView",
            "align_content": null,
            "align_items": null,
            "align_self": null,
            "border": null,
            "bottom": null,
            "display": null,
            "flex": null,
            "flex_flow": null,
            "grid_area": null,
            "grid_auto_columns": null,
            "grid_auto_flow": null,
            "grid_auto_rows": null,
            "grid_column": null,
            "grid_gap": null,
            "grid_row": null,
            "grid_template_areas": null,
            "grid_template_columns": null,
            "grid_template_rows": null,
            "height": null,
            "justify_content": null,
            "justify_items": null,
            "left": null,
            "margin": null,
            "max_height": null,
            "max_width": null,
            "min_height": null,
            "min_width": null,
            "object_fit": null,
            "object_position": null,
            "order": null,
            "overflow": null,
            "overflow_x": null,
            "overflow_y": null,
            "padding": null,
            "right": null,
            "top": null,
            "visibility": null,
            "width": null
          }
        },
        "11e63d5849bf4e0fb24529035848409e": {
          "model_module": "@jupyter-widgets/base",
          "model_name": "LayoutModel",
          "model_module_version": "1.2.0",
          "state": {
            "_model_module": "@jupyter-widgets/base",
            "_model_module_version": "1.2.0",
            "_model_name": "LayoutModel",
            "_view_count": null,
            "_view_module": "@jupyter-widgets/base",
            "_view_module_version": "1.2.0",
            "_view_name": "LayoutView",
            "align_content": null,
            "align_items": null,
            "align_self": null,
            "border": null,
            "bottom": null,
            "display": null,
            "flex": null,
            "flex_flow": null,
            "grid_area": null,
            "grid_auto_columns": null,
            "grid_auto_flow": null,
            "grid_auto_rows": null,
            "grid_column": null,
            "grid_gap": null,
            "grid_row": null,
            "grid_template_areas": null,
            "grid_template_columns": null,
            "grid_template_rows": null,
            "height": null,
            "justify_content": null,
            "justify_items": null,
            "left": null,
            "margin": null,
            "max_height": null,
            "max_width": null,
            "min_height": null,
            "min_width": null,
            "object_fit": null,
            "object_position": null,
            "order": null,
            "overflow": null,
            "overflow_x": null,
            "overflow_y": null,
            "padding": null,
            "right": null,
            "top": null,
            "visibility": null,
            "width": null
          }
        },
        "433ddace403148e08ada2e0b700a020e": {
          "model_module": "@jupyter-widgets/controls",
          "model_name": "DescriptionStyleModel",
          "model_module_version": "1.5.0",
          "state": {
            "_model_module": "@jupyter-widgets/controls",
            "_model_module_version": "1.5.0",
            "_model_name": "DescriptionStyleModel",
            "_view_count": null,
            "_view_module": "@jupyter-widgets/base",
            "_view_module_version": "1.2.0",
            "_view_name": "StyleView",
            "description_width": ""
          }
        },
        "c7061ed31dd847258700604325e40c10": {
          "model_module": "@jupyter-widgets/base",
          "model_name": "LayoutModel",
          "model_module_version": "1.2.0",
          "state": {
            "_model_module": "@jupyter-widgets/base",
            "_model_module_version": "1.2.0",
            "_model_name": "LayoutModel",
            "_view_count": null,
            "_view_module": "@jupyter-widgets/base",
            "_view_module_version": "1.2.0",
            "_view_name": "LayoutView",
            "align_content": null,
            "align_items": null,
            "align_self": null,
            "border": null,
            "bottom": null,
            "display": null,
            "flex": null,
            "flex_flow": null,
            "grid_area": null,
            "grid_auto_columns": null,
            "grid_auto_flow": null,
            "grid_auto_rows": null,
            "grid_column": null,
            "grid_gap": null,
            "grid_row": null,
            "grid_template_areas": null,
            "grid_template_columns": null,
            "grid_template_rows": null,
            "height": null,
            "justify_content": null,
            "justify_items": null,
            "left": null,
            "margin": null,
            "max_height": null,
            "max_width": null,
            "min_height": null,
            "min_width": null,
            "object_fit": null,
            "object_position": null,
            "order": null,
            "overflow": null,
            "overflow_x": null,
            "overflow_y": null,
            "padding": null,
            "right": null,
            "top": null,
            "visibility": null,
            "width": null
          }
        },
        "a30b72d686514609888ddc35c307e3f4": {
          "model_module": "@jupyter-widgets/controls",
          "model_name": "ProgressStyleModel",
          "model_module_version": "1.5.0",
          "state": {
            "_model_module": "@jupyter-widgets/controls",
            "_model_module_version": "1.5.0",
            "_model_name": "ProgressStyleModel",
            "_view_count": null,
            "_view_module": "@jupyter-widgets/base",
            "_view_module_version": "1.2.0",
            "_view_name": "StyleView",
            "bar_color": null,
            "description_width": ""
          }
        },
        "3291b96bbd454b9b9451026f830fcb1f": {
          "model_module": "@jupyter-widgets/base",
          "model_name": "LayoutModel",
          "model_module_version": "1.2.0",
          "state": {
            "_model_module": "@jupyter-widgets/base",
            "_model_module_version": "1.2.0",
            "_model_name": "LayoutModel",
            "_view_count": null,
            "_view_module": "@jupyter-widgets/base",
            "_view_module_version": "1.2.0",
            "_view_name": "LayoutView",
            "align_content": null,
            "align_items": null,
            "align_self": null,
            "border": null,
            "bottom": null,
            "display": null,
            "flex": null,
            "flex_flow": null,
            "grid_area": null,
            "grid_auto_columns": null,
            "grid_auto_flow": null,
            "grid_auto_rows": null,
            "grid_column": null,
            "grid_gap": null,
            "grid_row": null,
            "grid_template_areas": null,
            "grid_template_columns": null,
            "grid_template_rows": null,
            "height": null,
            "justify_content": null,
            "justify_items": null,
            "left": null,
            "margin": null,
            "max_height": null,
            "max_width": null,
            "min_height": null,
            "min_width": null,
            "object_fit": null,
            "object_position": null,
            "order": null,
            "overflow": null,
            "overflow_x": null,
            "overflow_y": null,
            "padding": null,
            "right": null,
            "top": null,
            "visibility": null,
            "width": null
          }
        },
        "ea57d1dcde644d84aadc1f445c445c07": {
          "model_module": "@jupyter-widgets/controls",
          "model_name": "DescriptionStyleModel",
          "model_module_version": "1.5.0",
          "state": {
            "_model_module": "@jupyter-widgets/controls",
            "_model_module_version": "1.5.0",
            "_model_name": "DescriptionStyleModel",
            "_view_count": null,
            "_view_module": "@jupyter-widgets/base",
            "_view_module_version": "1.2.0",
            "_view_name": "StyleView",
            "description_width": ""
          }
        }
      }
    }
  },
  "cells": [
    {
      "cell_type": "code",
      "execution_count": null,
      "metadata": {
        "colab": {
          "base_uri": "https://localhost:8080/"
        },
        "id": "vAc7WGoZ0LGd",
        "outputId": "0392a6b8-2ccf-4655-b2cd-4eb135f7b7eb"
      },
      "outputs": [
        {
          "output_type": "stream",
          "name": "stdout",
          "text": [
            "Drive already mounted at /content/drive; to attempt to forcibly remount, call drive.mount(\"/content/drive\", force_remount=True).\n"
          ]
        }
      ],
      "source": [
        "# dependencies\n",
        "#!pip install timm\n",
        "\n",
        "from google.colab import drive\n",
        "from huggingface_hub import notebook_login\n",
        "from transformers import AutoModelForCausalLM, AutoTokenizer\n",
        "import numpy as np\n",
        "import re\n",
        "import torch\n",
        "#import timm\n",
        "from sklearn.model_selection import train_test_split\n",
        "\n",
        "#drive.mount('/content/drive')"
      ]
    },
    {
      "cell_type": "code",
      "source": [
        "#path_model = '/content/drive/My Drive/C5470prj/Mistral-7B-Instruct-v0.2' #mistral + instruct prompting\n",
        "path_model = \"mistralai/Mistral-7B-Instruct-v0.2\"\n",
        "tokenizer = AutoTokenizer.from_pretrained(path_model)\n",
        "model = AutoModelForCausalLM.from_pretrained(path_model)\n",
        "\n",
        "#device = torch.device(\"cuda\" if torch.cuda.is_available() else \"cpu\")\n",
        "device = \"cpu\"\n",
        "model.to(device)\n",
        "device"
      ],
      "metadata": {
        "colab": {
          "base_uri": "https://localhost:8080/",
          "height": 67,
          "referenced_widgets": [
            "a7cfb08b45894b0ebcfe6b377ff885f2",
            "226ad0addc544cceb4dd827a7a7261af",
            "93a02c90d89d4ab585b771f3346a4095",
            "606f44a9faa84f6780a88a8e8593658b",
            "90731ce495d7451b818b81b26766bbeb",
            "11e63d5849bf4e0fb24529035848409e",
            "433ddace403148e08ada2e0b700a020e",
            "c7061ed31dd847258700604325e40c10",
            "a30b72d686514609888ddc35c307e3f4",
            "3291b96bbd454b9b9451026f830fcb1f",
            "ea57d1dcde644d84aadc1f445c445c07"
          ]
        },
        "id": "-aIjL2_40QFm",
        "outputId": "8649bafa-5b68-43a0-85d4-bcc1cce7cd45"
      },
      "execution_count": null,
      "outputs": [
        {
          "output_type": "display_data",
          "data": {
            "text/plain": [
              "Loading checkpoint shards:   0%|          | 0/3 [00:00<?, ?it/s]"
            ],
            "application/vnd.jupyter.widget-view+json": {
              "version_major": 2,
              "version_minor": 0,
              "model_id": "a7cfb08b45894b0ebcfe6b377ff885f2"
            }
          },
          "metadata": {}
        },
        {
          "output_type": "execute_result",
          "data": {
            "text/plain": [
              "'cpu'"
            ],
            "application/vnd.google.colaboratory.intrinsic+json": {
              "type": "string"
            }
          },
          "metadata": {},
          "execution_count": 3
        }
      ]
    },
    {
      "cell_type": "code",
      "source": [
        "# use colab tpu\n",
        "#import torch_xla\n",
        "#import torch_xla.core.xla_model as xm\n",
        "#device = xm.xla_device()\n",
        "#model = model.to(device)\n",
        "#device"
      ],
      "metadata": {
        "id": "1NZQBpUR9vBw"
      },
      "execution_count": null,
      "outputs": []
    },
    {
      "cell_type": "code",
      "source": [
        "# Function to format the input text according to the model's required format\n",
        "# add few shot examples(5)\n",
        "def format_fewshot_question(data, examples):\n",
        "    text = f\"\"\"###[INST]  Instructions:\n",
        "    Below is an instruction that describes a multiple choice task.\n",
        "    Answer the following multiple choice question by giving the most appropriate response.\n",
        "    Answer should be one among options provided after the question.\n",
        "    Select the most suitable answer while making the necessary assumptions.\n",
        "    Give only answer and a short explanation of two or three sentences. Nothing else.[/INST]\"\"\"\n",
        "\n",
        "    # format examples\n",
        "    text += \"\"\"[INST] Here are a few example questions and answers:\"\"\"\n",
        "    for (i,example) in enumerate(examples):\n",
        "        if example['answer'] not in example['choice_list']:\n",
        "            continue\n",
        "\n",
        "        correct_label = ''\n",
        "        correct_index = example['choice_list'].index(example['answer'])\n",
        "        for i, ordered_i in enumerate(example['choice_order']):\n",
        "            if ordered_i == correct_index:\n",
        "                correct_label = chr(97 + i)\n",
        "\n",
        "        question = example['question']\n",
        "        answer = example['answer']\n",
        "        choices = example['choice_list']\n",
        "        choice_order = example['choice_order']\n",
        "        formatted_choices = [f\"{chr(97 + i)}. {choices[idx]}\" for i, idx in enumerate(choice_order)]\n",
        "\n",
        "        text += f\"\"\"### Example #1:\n",
        "        Question: {question}\n",
        "        {formatted_choices[0]}\n",
        "        {formatted_choices[1]}\n",
        "        {formatted_choices[2]}\n",
        "        {formatted_choices[3]}\n",
        "        The correct answer is: {correct_label}. {answer}\n",
        "        \"\"\"\n",
        "\n",
        "        text += \"[/INST]\"\n",
        "\n",
        "    # format main question\n",
        "    id = data['id']\n",
        "    question = data['question']\n",
        "    print(\"processing data id: \" + id + \" length: \" + str(len(question)))\n",
        "\n",
        "    choices = data['choice_list']\n",
        "    choice_order = data['choice_order']\n",
        "    formatted_choices = [f\"{chr(97 + i)}. {choices[idx]}\" for i, idx in enumerate(choice_order)]\n",
        "\n",
        "    text += f\"\"\"[INST] Below is the multiple choice question you need to answer. Give only answer and a short explanation of two or three sentences.\n",
        "    ### Input:\n",
        "    Question: {question}\n",
        "    {formatted_choices[0]}\n",
        "    {formatted_choices[1]}\n",
        "    {formatted_choices[2]}\n",
        "    {formatted_choices[3]}\n",
        "\n",
        "    ### Output Format:\n",
        "    The correct answer is: {{label}}{{explanation}}\n",
        "    Change {{label}} to one of a, b, c or d in your output.\n",
        "    Change {{explanation}} to a short explanation.\n",
        "    Do not output anything else after it. [/INST]\n",
        "\n",
        "    The correct answer is: \"\"\"\n",
        "    return text, id\n",
        "\n",
        "\n"
      ],
      "metadata": {
        "id": "9L2bpsTW0S1r"
      },
      "execution_count": null,
      "outputs": []
    },
    {
      "cell_type": "code",
      "source": [
        "import random\n",
        "from sklearn.metrics import accuracy_score, precision_score, recall_score, f1_score\n",
        "\n",
        "# Load the data\n",
        "#SP_all = np.load('/content/drive/My Drive/C5470prj/BrainTeaser/data/SP-train.npy', allow_pickle=True)\n",
        "#WP_all = np.load('/content/drive/My Drive/C5470prj/BrainTeaser/data/WP-train.npy', allow_pickle=True)\n",
        "SP_all = np.load('SP-train.npy', allow_pickle=True)\n",
        "WP_all = np.load('WP-train.npy', allow_pickle=True)\n",
        "\n",
        "SP_train, SP_test = train_test_split(SP_all, test_size = 0.2, random_state=42)\n",
        "WP_train, WP_test = train_test_split(WP_all, test_size = 0.2, random_state=42)\n",
        "\n",
        "SP_test = SP_test[:50]\n",
        "WP_test = WP_test[:50]\n",
        "\n",
        "# stats\n",
        "correct_answers = 0\n",
        "question_count = 0\n",
        "SP_count = 0\n",
        "SP_correct = 0\n",
        "WP_count = 0\n",
        "WP_correct = 0\n",
        "\n",
        "for data in np.concatenate((WP_test, SP_test)):\n",
        "    id = data['id']\n",
        "    wp = False\n",
        "    sp = False\n",
        "    if '_' in id: # exclude reconstructed questions during eval\n",
        "        continue\n",
        "    if \"WP\" in id:\n",
        "        wp = True\n",
        "    if \"SP\" in id:\n",
        "        sp = True\n",
        "\n",
        "    question_count += 1\n",
        "    if wp:\n",
        "      WP_count += 1\n",
        "    if sp:\n",
        "      SP_count += 1\n",
        "\n",
        "    # inference\n",
        "    # find 5 random example from train set\n",
        "    examples = []\n",
        "    if wp:\n",
        "        examples = np.random.choice(WP_train, size=5, replace=False)\n",
        "    if sp:\n",
        "        examples = np.random.choice(SP_train, size=5, replace=False)\n",
        "\n",
        "    formatted_text, id = format_fewshot_question(data, examples)\n",
        "    #print(formatted_text)\n",
        "\n",
        "    inputs = tokenizer(formatted_text, return_tensors=\"pt\").to(device)\n",
        "    outputs = model.generate(**inputs, max_new_tokens=3) # 6 for base, 30 for instruct\n",
        "    response = tokenizer.decode(outputs[0], skip_special_tokens=True)\n",
        "    #print(response)\n",
        "\n",
        "    match_str = \"The correct answer is:\"\n",
        "    predicted_answer = ''\n",
        "    match = re.search(r'[^a-zA-Z]([a-d])[^a-zA-Z]', response[len(formatted_text):])\n",
        "    if match:\n",
        "        predicted_answer = match.group(1)\n",
        "    else:\n",
        "        predicted_answer = chr(97 + random.randint(0, 2))\n",
        "\n",
        "    # Find the index of the correct answer in the choice order\n",
        "    correct_label = ''\n",
        "    # sanitize dataset\n",
        "    if data['answer'] not in data['choice_list']:\n",
        "        question_count -= 1\n",
        "        if wp:\n",
        "            WP_count -= 1\n",
        "        if sp:\n",
        "            SP_count -= 1\n",
        "        continue\n",
        "\n",
        "    correct_index = data['choice_list'].index(data['answer'])\n",
        "    for i, ordered_i in enumerate(data['choice_order']):\n",
        "        if ordered_i == correct_index:\n",
        "            correct_label = chr(97 + i)\n",
        "\n",
        "    if predicted_answer == correct_label:\n",
        "        correct_answers += 1\n",
        "        if wp:\n",
        "            WP_correct += 1\n",
        "        if sp:\n",
        "            SP_correct += 1\n",
        "    print(\"evaluated data id: \" + id + \", predicted: \" + predicted_answer + \", correct: \" + correct_label + \" total acc: \" + str(correct_answers / question_count))\n",
        "    if SP_count != 0:\n",
        "        print(\" SP acc: \" + str(SP_correct / SP_count) + \" correct: \" + str(SP_correct) + \"  count: \"  + str(SP_count))\n",
        "    if WP_count != 0:\n",
        "        print(\" WP acc: \" + str(WP_correct / WP_count) + \" correct: \" + str(WP_correct) + \"  count: \"  + str(WP_count))\n",
        "\n",
        "# Calculate accuracy\n",
        "accuracy = correct_answers / question_count\n",
        "print(f\"Total Accuracy: {accuracy:.2f}\")\n",
        "\n"
      ],
      "metadata": {
        "colab": {
          "base_uri": "https://localhost:8080/"
        },
        "id": "8xTCw3_p0S4o",
        "outputId": "f32228bb-4b8e-410a-a9ca-0a8e82dcc8dd"
      },
      "execution_count": null,
      "outputs": [
        {
          "output_type": "stream",
          "name": "stderr",
          "text": [
            "Setting `pad_token_id` to `eos_token_id`:2 for open-end generation.\n"
          ]
        },
        {
          "output_type": "stream",
          "name": "stdout",
          "text": [
            "processing data id: WP-31 length: 23\n"
          ]
        },
        {
          "output_type": "stream",
          "name": "stderr",
          "text": [
            "Setting `pad_token_id` to `eos_token_id`:2 for open-end generation.\n"
          ]
        },
        {
          "output_type": "stream",
          "name": "stdout",
          "text": [
            "evaluated data id: WP-31, predicted: a, correct: a total acc: 1.0\n",
            " WP acc: 1.0 correct: 1  count: 1\n",
            "processing data id: WP-16 length: 48\n"
          ]
        },
        {
          "output_type": "stream",
          "name": "stderr",
          "text": [
            "Setting `pad_token_id` to `eos_token_id`:2 for open-end generation.\n"
          ]
        },
        {
          "output_type": "stream",
          "name": "stdout",
          "text": [
            "evaluated data id: WP-16, predicted: a, correct: a total acc: 1.0\n",
            " WP acc: 1.0 correct: 2  count: 2\n",
            "processing data id: WP-4 length: 83\n"
          ]
        },
        {
          "output_type": "stream",
          "name": "stderr",
          "text": [
            "Setting `pad_token_id` to `eos_token_id`:2 for open-end generation.\n"
          ]
        },
        {
          "output_type": "stream",
          "name": "stdout",
          "text": [
            "evaluated data id: WP-4, predicted: b, correct: a total acc: 0.6666666666666666\n",
            " WP acc: 0.6666666666666666 correct: 2  count: 3\n",
            "processing data id: WP-69 length: 47\n"
          ]
        },
        {
          "output_type": "stream",
          "name": "stderr",
          "text": [
            "Setting `pad_token_id` to `eos_token_id`:2 for open-end generation.\n"
          ]
        },
        {
          "output_type": "stream",
          "name": "stdout",
          "text": [
            "evaluated data id: WP-69, predicted: b, correct: c total acc: 0.5\n",
            " WP acc: 0.5 correct: 2  count: 4\n",
            "processing data id: WP-6 length: 85\n"
          ]
        },
        {
          "output_type": "stream",
          "name": "stderr",
          "text": [
            "Setting `pad_token_id` to `eos_token_id`:2 for open-end generation.\n"
          ]
        },
        {
          "output_type": "stream",
          "name": "stdout",
          "text": [
            "evaluated data id: WP-6, predicted: a, correct: a total acc: 0.6\n",
            " WP acc: 0.6 correct: 3  count: 5\n",
            "processing data id: WP-0 length: 41\n"
          ]
        },
        {
          "output_type": "stream",
          "name": "stderr",
          "text": [
            "Setting `pad_token_id` to `eos_token_id`:2 for open-end generation.\n"
          ]
        },
        {
          "output_type": "stream",
          "name": "stdout",
          "text": [
            "evaluated data id: WP-0, predicted: c, correct: c total acc: 0.6666666666666666\n",
            " WP acc: 0.6666666666666666 correct: 4  count: 6\n",
            "processing data id: WP-57 length: 134\n"
          ]
        },
        {
          "output_type": "stream",
          "name": "stderr",
          "text": [
            "Setting `pad_token_id` to `eos_token_id`:2 for open-end generation.\n"
          ]
        },
        {
          "output_type": "stream",
          "name": "stdout",
          "text": [
            "evaluated data id: WP-57, predicted: a, correct: b total acc: 0.5714285714285714\n",
            " WP acc: 0.5714285714285714 correct: 4  count: 7\n",
            "processing data id: WP-12 length: 41\n"
          ]
        },
        {
          "output_type": "stream",
          "name": "stderr",
          "text": [
            "Setting `pad_token_id` to `eos_token_id`:2 for open-end generation.\n"
          ]
        },
        {
          "output_type": "stream",
          "name": "stdout",
          "text": [
            "evaluated data id: WP-12, predicted: c, correct: c total acc: 0.625\n",
            " WP acc: 0.625 correct: 5  count: 8\n",
            "processing data id: WP-108 length: 102\n"
          ]
        },
        {
          "output_type": "stream",
          "name": "stderr",
          "text": [
            "Setting `pad_token_id` to `eos_token_id`:2 for open-end generation.\n"
          ]
        },
        {
          "output_type": "stream",
          "name": "stdout",
          "text": [
            "evaluated data id: WP-108, predicted: b, correct: b total acc: 0.6666666666666666\n",
            " WP acc: 0.6666666666666666 correct: 6  count: 9\n",
            "processing data id: WP-149 length: 33\n"
          ]
        },
        {
          "output_type": "stream",
          "name": "stderr",
          "text": [
            "Setting `pad_token_id` to `eos_token_id`:2 for open-end generation.\n"
          ]
        },
        {
          "output_type": "stream",
          "name": "stdout",
          "text": [
            "evaluated data id: WP-149, predicted: b, correct: b total acc: 0.7\n",
            " WP acc: 0.7 correct: 7  count: 10\n",
            "processing data id: WP-38 length: 49\n"
          ]
        },
        {
          "output_type": "stream",
          "name": "stderr",
          "text": [
            "Setting `pad_token_id` to `eos_token_id`:2 for open-end generation.\n"
          ]
        },
        {
          "output_type": "stream",
          "name": "stdout",
          "text": [
            "evaluated data id: WP-38, predicted: c, correct: a total acc: 0.6363636363636364\n",
            " WP acc: 0.6363636363636364 correct: 7  count: 11\n",
            "processing data id: WP-22 length: 43\n"
          ]
        },
        {
          "output_type": "stream",
          "name": "stderr",
          "text": [
            "Setting `pad_token_id` to `eos_token_id`:2 for open-end generation.\n"
          ]
        },
        {
          "output_type": "stream",
          "name": "stdout",
          "text": [
            "evaluated data id: WP-22, predicted: a, correct: a total acc: 0.6666666666666666\n",
            " WP acc: 0.6666666666666666 correct: 8  count: 12\n",
            "processing data id: WP-28 length: 36\n"
          ]
        },
        {
          "output_type": "stream",
          "name": "stderr",
          "text": [
            "Setting `pad_token_id` to `eos_token_id`:2 for open-end generation.\n"
          ]
        },
        {
          "output_type": "stream",
          "name": "stdout",
          "text": [
            "evaluated data id: WP-28, predicted: a, correct: a total acc: 0.6923076923076923\n",
            " WP acc: 0.6923076923076923 correct: 9  count: 13\n",
            "processing data id: WP-94 length: 40\n"
          ]
        },
        {
          "output_type": "stream",
          "name": "stderr",
          "text": [
            "Setting `pad_token_id` to `eos_token_id`:2 for open-end generation.\n"
          ]
        },
        {
          "output_type": "stream",
          "name": "stdout",
          "text": [
            "evaluated data id: WP-94, predicted: a, correct: a total acc: 0.7142857142857143\n",
            " WP acc: 0.7142857142857143 correct: 10  count: 14\n",
            "processing data id: WP-39 length: 46\n"
          ]
        },
        {
          "output_type": "stream",
          "name": "stderr",
          "text": [
            "Setting `pad_token_id` to `eos_token_id`:2 for open-end generation.\n"
          ]
        },
        {
          "output_type": "stream",
          "name": "stdout",
          "text": [
            "evaluated data id: WP-39, predicted: c, correct: a total acc: 0.6666666666666666\n",
            " WP acc: 0.6666666666666666 correct: 10  count: 15\n",
            "processing data id: WP-45 length: 31\n"
          ]
        },
        {
          "output_type": "stream",
          "name": "stderr",
          "text": [
            "Setting `pad_token_id` to `eos_token_id`:2 for open-end generation.\n"
          ]
        },
        {
          "output_type": "stream",
          "name": "stdout",
          "text": [
            "evaluated data id: WP-45, predicted: a, correct: a total acc: 0.6875\n",
            " WP acc: 0.6875 correct: 11  count: 16\n",
            "processing data id: WP-81 length: 41\n"
          ]
        },
        {
          "output_type": "stream",
          "name": "stderr",
          "text": [
            "Setting `pad_token_id` to `eos_token_id`:2 for open-end generation.\n"
          ]
        },
        {
          "output_type": "stream",
          "name": "stdout",
          "text": [
            "evaluated data id: WP-81, predicted: c, correct: a total acc: 0.6470588235294118\n",
            " WP acc: 0.6470588235294118 correct: 11  count: 17\n",
            "processing data id: SP-203 length: 49\n"
          ]
        },
        {
          "output_type": "stream",
          "name": "stderr",
          "text": [
            "Setting `pad_token_id` to `eos_token_id`:2 for open-end generation.\n"
          ]
        },
        {
          "output_type": "stream",
          "name": "stdout",
          "text": [
            "evaluated data id: SP-203, predicted: c, correct: c total acc: 0.6666666666666666\n",
            " SP acc: 1.0 correct: 1  count: 1\n",
            " WP acc: 0.6470588235294118 correct: 11  count: 17\n",
            "processing data id: SP-29 length: 141\n"
          ]
        },
        {
          "output_type": "stream",
          "name": "stderr",
          "text": [
            "Setting `pad_token_id` to `eos_token_id`:2 for open-end generation.\n"
          ]
        },
        {
          "output_type": "stream",
          "name": "stdout",
          "text": [
            "evaluated data id: SP-29, predicted: b, correct: c total acc: 0.631578947368421\n",
            " SP acc: 0.5 correct: 1  count: 2\n",
            " WP acc: 0.6470588235294118 correct: 11  count: 17\n",
            "processing data id: SP-185 length: 107\n"
          ]
        },
        {
          "output_type": "stream",
          "name": "stderr",
          "text": [
            "Setting `pad_token_id` to `eos_token_id`:2 for open-end generation.\n"
          ]
        },
        {
          "output_type": "stream",
          "name": "stdout",
          "text": [
            "evaluated data id: SP-185, predicted: c, correct: c total acc: 0.65\n",
            " SP acc: 0.6666666666666666 correct: 2  count: 3\n",
            " WP acc: 0.6470588235294118 correct: 11  count: 17\n",
            "processing data id: SP-207 length: 113\n"
          ]
        },
        {
          "output_type": "stream",
          "name": "stderr",
          "text": [
            "Setting `pad_token_id` to `eos_token_id`:2 for open-end generation.\n"
          ]
        },
        {
          "output_type": "stream",
          "name": "stdout",
          "text": [
            "evaluated data id: SP-207, predicted: a, correct: a total acc: 0.6666666666666666\n",
            " SP acc: 0.75 correct: 3  count: 4\n",
            " WP acc: 0.6470588235294118 correct: 11  count: 17\n",
            "processing data id: SP-5 length: 138\n"
          ]
        },
        {
          "output_type": "stream",
          "name": "stderr",
          "text": [
            "Setting `pad_token_id` to `eos_token_id`:2 for open-end generation.\n"
          ]
        },
        {
          "output_type": "stream",
          "name": "stdout",
          "text": [
            "evaluated data id: SP-5, predicted: c, correct: b total acc: 0.6363636363636364\n",
            " SP acc: 0.6 correct: 3  count: 5\n",
            " WP acc: 0.6470588235294118 correct: 11  count: 17\n",
            "processing data id: SP-32 length: 224\n"
          ]
        },
        {
          "output_type": "stream",
          "name": "stderr",
          "text": [
            "Setting `pad_token_id` to `eos_token_id`:2 for open-end generation.\n"
          ]
        },
        {
          "output_type": "stream",
          "name": "stdout",
          "text": [
            "evaluated data id: SP-32, predicted: b, correct: a total acc: 0.6086956521739131\n",
            " SP acc: 0.5 correct: 3  count: 6\n",
            " WP acc: 0.6470588235294118 correct: 11  count: 17\n",
            "processing data id: SP-197 length: 195\n"
          ]
        },
        {
          "output_type": "stream",
          "name": "stderr",
          "text": [
            "Setting `pad_token_id` to `eos_token_id`:2 for open-end generation.\n"
          ]
        },
        {
          "output_type": "stream",
          "name": "stdout",
          "text": [
            "evaluated data id: SP-197, predicted: b, correct: a total acc: 0.5833333333333334\n",
            " SP acc: 0.42857142857142855 correct: 3  count: 7\n",
            " WP acc: 0.6470588235294118 correct: 11  count: 17\n",
            "processing data id: SP-80 length: 89\n"
          ]
        },
        {
          "output_type": "stream",
          "name": "stderr",
          "text": [
            "Setting `pad_token_id` to `eos_token_id`:2 for open-end generation.\n"
          ]
        },
        {
          "output_type": "stream",
          "name": "stdout",
          "text": [
            "evaluated data id: SP-80, predicted: c, correct: c total acc: 0.6\n",
            " SP acc: 0.5 correct: 4  count: 8\n",
            " WP acc: 0.6470588235294118 correct: 11  count: 17\n",
            "processing data id: SP-12 length: 217\n"
          ]
        },
        {
          "output_type": "stream",
          "name": "stderr",
          "text": [
            "Setting `pad_token_id` to `eos_token_id`:2 for open-end generation.\n"
          ]
        },
        {
          "output_type": "stream",
          "name": "stdout",
          "text": [
            "evaluated data id: SP-12, predicted: c, correct: a total acc: 0.5769230769230769\n",
            " SP acc: 0.4444444444444444 correct: 4  count: 9\n",
            " WP acc: 0.6470588235294118 correct: 11  count: 17\n",
            "processing data id: SP-85 length: 472\n"
          ]
        },
        {
          "output_type": "stream",
          "name": "stderr",
          "text": [
            "Setting `pad_token_id` to `eos_token_id`:2 for open-end generation.\n"
          ]
        },
        {
          "output_type": "stream",
          "name": "stdout",
          "text": [
            "evaluated data id: SP-85, predicted: c, correct: c total acc: 0.5925925925925926\n",
            " SP acc: 0.5 correct: 5  count: 10\n",
            " WP acc: 0.6470588235294118 correct: 11  count: 17\n",
            "processing data id: SP-206 length: 153\n"
          ]
        },
        {
          "output_type": "stream",
          "name": "stderr",
          "text": [
            "Setting `pad_token_id` to `eos_token_id`:2 for open-end generation.\n"
          ]
        },
        {
          "output_type": "stream",
          "name": "stdout",
          "text": [
            "evaluated data id: SP-206, predicted: a, correct: a total acc: 0.6071428571428571\n",
            " SP acc: 0.5454545454545454 correct: 6  count: 11\n",
            " WP acc: 0.6470588235294118 correct: 11  count: 17\n",
            "processing data id: SP-151 length: 73\n"
          ]
        },
        {
          "output_type": "stream",
          "name": "stderr",
          "text": [
            "Setting `pad_token_id` to `eos_token_id`:2 for open-end generation.\n"
          ]
        },
        {
          "output_type": "stream",
          "name": "stdout",
          "text": [
            "evaluated data id: SP-151, predicted: b, correct: a total acc: 0.5862068965517241\n",
            " SP acc: 0.5 correct: 6  count: 12\n",
            " WP acc: 0.6470588235294118 correct: 11  count: 17\n",
            "processing data id: SP-195 length: 163\n"
          ]
        },
        {
          "output_type": "stream",
          "name": "stderr",
          "text": [
            "Setting `pad_token_id` to `eos_token_id`:2 for open-end generation.\n"
          ]
        },
        {
          "output_type": "stream",
          "name": "stdout",
          "text": [
            "evaluated data id: SP-195, predicted: b, correct: b total acc: 0.6\n",
            " SP acc: 0.5384615384615384 correct: 7  count: 13\n",
            " WP acc: 0.6470588235294118 correct: 11  count: 17\n",
            "processing data id: SP-62 length: 126\n"
          ]
        },
        {
          "output_type": "stream",
          "name": "stderr",
          "text": [
            "Setting `pad_token_id` to `eos_token_id`:2 for open-end generation.\n"
          ]
        },
        {
          "output_type": "stream",
          "name": "stdout",
          "text": [
            "evaluated data id: SP-62, predicted: a, correct: a total acc: 0.6129032258064516\n",
            " SP acc: 0.5714285714285714 correct: 8  count: 14\n",
            " WP acc: 0.6470588235294118 correct: 11  count: 17\n",
            "processing data id: SP-133 length: 320\n"
          ]
        },
        {
          "output_type": "stream",
          "name": "stderr",
          "text": [
            "Setting `pad_token_id` to `eos_token_id`:2 for open-end generation.\n"
          ]
        },
        {
          "output_type": "stream",
          "name": "stdout",
          "text": [
            "evaluated data id: SP-133, predicted: c, correct: a total acc: 0.59375\n",
            " SP acc: 0.5333333333333333 correct: 8  count: 15\n",
            " WP acc: 0.6470588235294118 correct: 11  count: 17\n",
            "processing data id: SP-83 length: 196\n"
          ]
        },
        {
          "output_type": "stream",
          "name": "stderr",
          "text": [
            "Setting `pad_token_id` to `eos_token_id`:2 for open-end generation.\n"
          ]
        },
        {
          "output_type": "stream",
          "name": "stdout",
          "text": [
            "evaluated data id: SP-83, predicted: c, correct: a total acc: 0.5757575757575758\n",
            " SP acc: 0.5 correct: 8  count: 16\n",
            " WP acc: 0.6470588235294118 correct: 11  count: 17\n",
            "processing data id: SP-37 length: 80\n"
          ]
        },
        {
          "output_type": "stream",
          "name": "stderr",
          "text": [
            "Setting `pad_token_id` to `eos_token_id`:2 for open-end generation.\n"
          ]
        },
        {
          "output_type": "stream",
          "name": "stdout",
          "text": [
            "evaluated data id: SP-37, predicted: a, correct: a total acc: 0.5882352941176471\n",
            " SP acc: 0.5294117647058824 correct: 9  count: 17\n",
            " WP acc: 0.6470588235294118 correct: 11  count: 17\n",
            "processing data id: SP-13 length: 347\n"
          ]
        },
        {
          "output_type": "stream",
          "name": "stderr",
          "text": [
            "Setting `pad_token_id` to `eos_token_id`:2 for open-end generation.\n"
          ]
        },
        {
          "output_type": "stream",
          "name": "stdout",
          "text": [
            "evaluated data id: SP-13, predicted: c, correct: a total acc: 0.5714285714285714\n",
            " SP acc: 0.5 correct: 9  count: 18\n",
            " WP acc: 0.6470588235294118 correct: 11  count: 17\n",
            "processing data id: SP-196 length: 111\n"
          ]
        },
        {
          "output_type": "stream",
          "name": "stderr",
          "text": [
            "Setting `pad_token_id` to `eos_token_id`:2 for open-end generation.\n"
          ]
        },
        {
          "output_type": "stream",
          "name": "stdout",
          "text": [
            "evaluated data id: SP-196, predicted: a, correct: b total acc: 0.5555555555555556\n",
            " SP acc: 0.47368421052631576 correct: 9  count: 19\n",
            " WP acc: 0.6470588235294118 correct: 11  count: 17\n",
            "processing data id: SP-0 length: 139\n",
            "evaluated data id: SP-0, predicted: a, correct: a total acc: 0.5675675675675675\n",
            " SP acc: 0.5 correct: 10  count: 20\n",
            " WP acc: 0.6470588235294118 correct: 11  count: 17\n",
            "Total Accuracy: 0.57\n"
          ]
        }
      ]
    },
    {
      "cell_type": "markdown",
      "source": [
        "results:\n",
        "\n",
        " SP acc: 0.48717948717948717 correct: 19  count: 39\n",
        " WP acc: 0.6666666666666666 correct: 20  count: 30\n",
        "Total Accuracy: 0.57\n",
        "\n",
        "\n",
        "evaluated data id: WP-31, predicted: a, correct: a total acc: 0.525\n",
        " SP acc: 1.0 correct: 39  count: 39\n",
        " WP acc: 1.0 correct: 1  count: 1\n",
        "processing data id: WP-16 length: 48\n",
        "\n",
        "\n",
        "evaluated data id: SP-0, predicted: a, correct: a total acc: 0.5675675675675675\n",
        " SP acc: 0.4 correct: 8  count: 20\n",
        " WP acc: 0.7647058823529411 correct: 13  count: 17\n",
        "Total Accuracy: 0.57\n",
        "\n",
        " SP acc: 0.5 correct: 10  count: 20\n",
        " WP acc: 0.6470588235294118 correct: 11  count: 17\n",
        "Total Accuracy: 0.57"
      ],
      "metadata": {
        "id": "cVY2lZFNAdf6"
      }
    }
  ]
}